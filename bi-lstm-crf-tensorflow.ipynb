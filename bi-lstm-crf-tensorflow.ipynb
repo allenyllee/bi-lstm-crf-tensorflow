{
 "cells": [
  {
   "cell_type": "code",
   "execution_count": 1,
   "metadata": {},
   "outputs": [
    {
     "name": "stdout",
     "output_type": "stream",
     "text": [
      "WARNING:tensorflow:Deprecation warnings have been disabled. Set TF_ENABLE_DEPRECATION_WARNINGS=1 to re-enable them.\n"
     ]
    }
   ],
   "source": [
    "import random as rand\n",
    "from random import random\n",
    "import numpy as np\n",
    "import math\n",
    "import tensorflow as tf"
   ]
  },
  {
   "cell_type": "code",
   "execution_count": 2,
   "metadata": {},
   "outputs": [
    {
     "data": {
      "text/plain": [
       "'1.15.4'"
      ]
     },
     "execution_count": 2,
     "metadata": {},
     "output_type": "execute_result"
    }
   ],
   "source": [
    "tf.__version__"
   ]
  },
  {
   "cell_type": "code",
   "execution_count": 3,
   "metadata": {},
   "outputs": [],
   "source": [
    "# Parameters used.\n",
    "MODEL_PATH = 'model/model.ckpt'"
   ]
  },
  {
   "cell_type": "code",
   "execution_count": 4,
   "metadata": {},
   "outputs": [],
   "source": [
    "# Create a sequence classification instance.\n",
    "def get_sequence(sequence_length):\n",
    "    # Create a sequence of random numbers in [0,1].\n",
    "    X = np.array([random() for _ in range(sequence_length)])\n",
    "    # Calculate cut-off value to change class values.\n",
    "    limit = sequence_length / 4.0\n",
    "    # Determine the class outcome for each item in cumulative sequence.\n",
    "    y = np.array([0 if x < limit else 1 for x in np.cumsum(X)])\n",
    "    \n",
    "    return X, y\n",
    "\n",
    "# Create n examples with random sequence lengths between 5 and 15.\n",
    "def get_examples(n):\n",
    "    X_list = []\n",
    "    y_list = []\n",
    "    sequence_length_list = []\n",
    "    for _ in range(n):\n",
    "        sequence_length = rand.randrange(start=5, stop=15)\n",
    "        X, y = get_sequence(sequence_length)\n",
    "        X_list.append(X)\n",
    "        y_list.append(y)\n",
    "        sequence_length_list.append(sequence_length)\n",
    "    \n",
    "    return X_list, y_list, sequence_length_list\n",
    "\n",
    "# Tensorflow requires that all sentences (and all labels) inside the same batch have the same length,\n",
    "# so we have to pad the data (and labels) inside the batches (with 0's, for example).\n",
    "def pad(sentence, max_length):\n",
    "    pad_len = max_length - len(sentence)\n",
    "    padding = np.zeros(pad_len)\n",
    "    return np.concatenate((sentence, padding))\n",
    "    \n",
    "# Create input batches.\n",
    "def batch(data, labels, sequence_lengths, batch_size, input_size):\n",
    "    n_batch = int(math.ceil(len(data) / batch_size))\n",
    "    index = 0\n",
    "    for _ in range(n_batch):\n",
    "        batch_sequence_lengths = np.array(sequence_lengths[index: index + batch_size])\n",
    "        batch_length = np.array(max(batch_sequence_lengths)) # max length in batch\n",
    "        batch_data = np.array([pad(x, batch_length) for x in data[index: index + batch_size]]) # pad data\n",
    "        batch_labels = np.array([pad(x, batch_length) for x in labels[index: index + batch_size]]) # pad labels\n",
    "        index += batch_size\n",
    "        \n",
    "        # Reshape input data to be suitable for LSTMs.\n",
    "        batch_data = batch_data.reshape(-1, batch_length, input_size)\n",
    "        \n",
    "        yield batch_data, batch_labels, batch_length, batch_sequence_lengths"
   ]
  },
  {
   "cell_type": "code",
   "execution_count": 5,
   "metadata": {},
   "outputs": [],
   "source": [
    "# Generate train and test data.\n",
    "x_train, y_train, sequence_length_train = get_examples(100)\n",
    "x_test, y_test, sequence_length_test = get_examples(30)"
   ]
  },
  {
   "cell_type": "code",
   "execution_count": 6,
   "metadata": {},
   "outputs": [
    {
     "name": "stdout",
     "output_type": "stream",
     "text": [
      "WARNING:tensorflow:\n",
      "The TensorFlow contrib module will not be included in TensorFlow 2.0.\n",
      "For more information, please see:\n",
      "  * https://github.com/tensorflow/community/blob/master/rfcs/20180907-contrib-sunset.md\n",
      "  * https://github.com/tensorflow/addons\n",
      "  * https://github.com/tensorflow/io (for I/O related ops)\n",
      "If you depend on functionality not listed there, please file an issue.\n",
      "\n"
     ]
    }
   ],
   "source": [
    "# Bidirectional LSTM + CRF model.\n",
    "learning_rate = 0.001\n",
    "training_epochs = 100\n",
    "input_size = 1\n",
    "batch_size = 32\n",
    "num_units = 128 # the number of units in the LSTM cell\n",
    "number_of_classes = 2\n",
    "\n",
    "input_data = tf.placeholder(tf.float32, [None, None, input_size], name=\"input_data\") # shape = (batch, batch_seq_len, input_size)\n",
    "labels = tf.placeholder(tf.int32, shape=[None, None], name=\"labels\") # shape = (batch, sentence)\n",
    "batch_sequence_length = tf.placeholder(tf.int32) # max sequence length in batch\n",
    "original_sequence_lengths = tf.placeholder(tf.int32, [None])\n",
    "\n",
    "# Scope is mandatory to use LSTMCell (https://github.com/tensorflow/tensorflow/issues/799).\n",
    "with tf.name_scope(\"BiLSTM\"):\n",
    "    with tf.variable_scope('forward'):\n",
    "        lstm_fw_cell = tf.nn.rnn_cell.LSTMCell(num_units, forget_bias=1.0, state_is_tuple=True)\n",
    "    with tf.variable_scope('backward'):\n",
    "        lstm_bw_cell = tf.nn.rnn_cell.LSTMCell(num_units, forget_bias=1.0, state_is_tuple=True)\n",
    "    (output_fw, output_bw), states = tf.nn.bidirectional_dynamic_rnn(cell_fw=lstm_fw_cell, \n",
    "                                                                     cell_bw=lstm_bw_cell, \n",
    "                                                                     inputs=input_data,\n",
    "                                                                     sequence_length=original_sequence_lengths, \n",
    "                                                                     dtype=tf.float32,\n",
    "                                                                     scope=\"BiLSTM\")\n",
    "\n",
    "# As we have a Bi-LSTM, we have two outputs which are not connected, so we need to merge them.\n",
    "outputs = tf.concat([output_fw, output_bw], axis=2)\n",
    "\n",
    "# Fully connected layer.\n",
    "W = tf.get_variable(name=\"W\", shape=[2 * num_units, number_of_classes],\n",
    "                dtype=tf.float32)\n",
    "\n",
    "b = tf.get_variable(name=\"b\", shape=[number_of_classes], dtype=tf.float32,\n",
    "                initializer=tf.zeros_initializer())\n",
    "\n",
    "outputs_flat = tf.reshape(outputs, [-1, 2 * num_units])\n",
    "pred = tf.matmul(outputs_flat, W) + b\n",
    "scores = tf.reshape(pred, [-1, batch_sequence_length, number_of_classes])\n",
    "\n",
    "# Linear-CRF.\n",
    "log_likelihood, transition_params = tf.contrib.crf.crf_log_likelihood(scores, labels, original_sequence_lengths)\n",
    "\n",
    "loss = tf.reduce_mean(-log_likelihood)\n",
    "\n",
    "# Compute the viterbi sequence and score (used for prediction and test time).\n",
    "viterbi_sequence, viterbi_score = tf.contrib.crf.crf_decode(scores, transition_params, original_sequence_lengths)\n",
    "\n",
    "# Training ops.\n",
    "optimizer = tf.train.AdamOptimizer(learning_rate)\n",
    "train_op = optimizer.minimize(loss)\n",
    "\n",
    "# Add ops to save and restore all the variables.\n",
    "saver = tf.train.Saver()"
   ]
  },
  {
   "cell_type": "code",
   "execution_count": 7,
   "metadata": {
    "scrolled": false
   },
   "outputs": [
    {
     "name": "stdout",
     "output_type": "stream",
     "text": [
      "Epoch: 0 Accuracy: 46.08%\n",
      "Epoch: 0 Accuracy: 45.60%\n",
      "Epoch: 0 Accuracy: 41.55%\n",
      "Epoch: 0 Accuracy: 40.62%\n",
      "Epoch: 10 Accuracy: 92.49%\n",
      "Epoch: 10 Accuracy: 91.51%\n",
      "Epoch: 10 Accuracy: 92.61%\n",
      "Epoch: 10 Accuracy: 87.50%\n",
      "Epoch: 20 Accuracy: 95.22%\n",
      "Epoch: 20 Accuracy: 93.40%\n",
      "Epoch: 20 Accuracy: 94.72%\n",
      "Epoch: 20 Accuracy: 90.62%\n",
      "Epoch: 30 Accuracy: 96.25%\n",
      "Epoch: 30 Accuracy: 94.97%\n",
      "Epoch: 30 Accuracy: 95.42%\n",
      "Epoch: 30 Accuracy: 96.88%\n",
      "Epoch: 40 Accuracy: 96.25%\n",
      "Epoch: 40 Accuracy: 96.23%\n",
      "Epoch: 40 Accuracy: 95.07%\n",
      "Epoch: 40 Accuracy: 96.88%\n",
      "Epoch: 50 Accuracy: 96.25%\n",
      "Epoch: 50 Accuracy: 96.86%\n",
      "Epoch: 50 Accuracy: 96.48%\n",
      "Epoch: 50 Accuracy: 96.88%\n",
      "Epoch: 60 Accuracy: 96.25%\n",
      "Epoch: 60 Accuracy: 97.48%\n",
      "Epoch: 60 Accuracy: 97.18%\n",
      "Epoch: 60 Accuracy: 96.88%\n",
      "Epoch: 70 Accuracy: 96.25%\n",
      "Epoch: 70 Accuracy: 97.80%\n",
      "Epoch: 70 Accuracy: 97.18%\n",
      "Epoch: 70 Accuracy: 100.00%\n",
      "Epoch: 80 Accuracy: 96.93%\n",
      "Epoch: 80 Accuracy: 98.11%\n",
      "Epoch: 80 Accuracy: 98.24%\n",
      "Epoch: 80 Accuracy: 100.00%\n",
      "Epoch: 90 Accuracy: 96.93%\n",
      "Epoch: 90 Accuracy: 98.43%\n",
      "Epoch: 90 Accuracy: 98.94%\n",
      "Epoch: 90 Accuracy: 100.00%\n"
     ]
    }
   ],
   "source": [
    "# Training the model.\n",
    "config = tf.ConfigProto()\n",
    "config.gpu_options.allow_growth = True\n",
    "\n",
    "with tf.Session(config=config) as session:\n",
    "    session.run(tf.global_variables_initializer())\n",
    "    \n",
    "    for i in range(training_epochs):\n",
    "        for batch_data, batch_labels, batch_seq_len, batch_sequence_lengths in batch(x_train, y_train, sequence_length_train, batch_size, input_size):\n",
    "            tf_viterbi_sequence, _ = session.run([viterbi_sequence, train_op], \n",
    "                                                 feed_dict={input_data: batch_data, \n",
    "                                                            labels: batch_labels, \n",
    "                                                            batch_sequence_length: batch_seq_len,\n",
    "                                                            original_sequence_lengths: batch_sequence_lengths })\n",
    "            # Show train accuracy.\n",
    "            if i % 10 == 0:\n",
    "                # Create a mask to fix input lengths.\n",
    "                mask = (np.expand_dims(np.arange(batch_seq_len), axis=0) <\n",
    "                    np.expand_dims(batch_sequence_lengths, axis=1))\n",
    "                total_labels = np.sum(batch_sequence_lengths)\n",
    "                correct_labels = np.sum((batch_labels == tf_viterbi_sequence) * mask)\n",
    "                accuracy = 100.0 * correct_labels / float(total_labels)\n",
    "                print(\"Epoch: %d\" % i, \"Accuracy: %.2f%%\" % accuracy)\n",
    "    \n",
    "    # Save the variables to disk.\n",
    "    saver.save(session, MODEL_PATH)"
   ]
  },
  {
   "cell_type": "code",
   "execution_count": 8,
   "metadata": {},
   "outputs": [
    {
     "name": "stdout",
     "output_type": "stream",
     "text": [
      "INFO:tensorflow:Restoring parameters from model/model.ckpt\n",
      "Test accuracy: 97.51%\n",
      "Label: [0 0 0 0 0 1 1 1 1 1 1 1 0 0]\n",
      "Pred.: [0 0 0 0 0 1 1 1 1 1 1 1 0 0]\n"
     ]
    }
   ],
   "source": [
    "# Testing the model.\n",
    "with tf.Session() as session:\n",
    "    # Restore variables from disk.\n",
    "    saver.restore(session, MODEL_PATH)\n",
    "    \n",
    "    for batch_data, batch_labels, batch_seq_len, batch_sequence_lengths in batch(x_test, y_test, sequence_length_test, len(x_test), input_size):\n",
    "        tf_viterbi_sequence = session.run(viterbi_sequence, feed_dict={input_data: batch_data, \n",
    "                                                                       labels: batch_labels, \n",
    "                                                                       batch_sequence_length: batch_seq_len,\n",
    "                                                                       original_sequence_lengths: batch_sequence_lengths })\n",
    "    # mask to correct input sizes\n",
    "    mask = (np.expand_dims(np.arange(batch_seq_len), axis=0) <\n",
    "        np.expand_dims(batch_sequence_lengths, axis=1))\n",
    "    total_labels = np.sum(batch_sequence_lengths)\n",
    "    correct_labels = np.sum((batch_labels == tf_viterbi_sequence) * mask)\n",
    "    accuracy = 100.0 * correct_labels / float(total_labels)\n",
    "    print(\"Test accuracy: %.2f%%\" % accuracy)\n",
    "\n",
    "    print(\"Label:\", batch_labels[0].astype(int))    \n",
    "    print(\"Pred.:\", tf_viterbi_sequence[0])"
   ]
  },
  {
   "cell_type": "code",
   "execution_count": null,
   "metadata": {},
   "outputs": [],
   "source": []
  },
  {
   "cell_type": "code",
   "execution_count": null,
   "metadata": {},
   "outputs": [],
   "source": []
  }
 ],
 "metadata": {
  "kernelspec": {
   "display_name": "Python 3",
   "language": "python",
   "name": "python3"
  },
  "language_info": {
   "codemirror_mode": {
    "name": "ipython",
    "version": 3
   },
   "file_extension": ".py",
   "mimetype": "text/x-python",
   "name": "python",
   "nbconvert_exporter": "python",
   "pygments_lexer": "ipython3",
   "version": "3.6.12"
  }
 },
 "nbformat": 4,
 "nbformat_minor": 2
}
